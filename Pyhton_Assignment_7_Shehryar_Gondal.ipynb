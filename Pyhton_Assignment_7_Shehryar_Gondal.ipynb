{
 "cells": [
  {
   "cell_type": "markdown",
   "id": "09f8c80d",
   "metadata": {},
   "source": [
    "## Assignments  Question"
   ]
  },
  {
   "cell_type": "markdown",
   "id": "f5e366dc",
   "metadata": {},
   "source": [
    "Q1. Create a function which will take a list as an argument and return the product of all the numbers after creating a flat list.\n",
    "Use the below-given list as an argument for your function.<br>\n",
    "list1 = [1,2,3,4,[44,55,66, True], False, (34,56,78,89,34), {1,2,3,3,2,1}, {1:34, \"key2\": [55, 67, 78, 89], 4: (45, 22, 61, 34)}, [56, 'data science'], 'Machine Learning'] <br>\n",
    "Note: you must extract numeric keys and values of the dictionary also."
   ]
  },
  {
   "cell_type": "code",
   "execution_count": 22,
   "id": "6dca3829",
   "metadata": {},
   "outputs": [
    {
     "name": "stdout",
     "output_type": "stream",
     "text": [
      "[1, 2, 3, 4, 44, 55, 66, True, False, 34, 56, 78, 89, 34, 1, 34, 55, 67, 78, 89, 4, 45, 22, 61, 34, 56]\n",
      "Product of whole list is 0\n"
     ]
    }
   ],
   "source": [
    "def return_int_list(lst):\n",
    "    flat_list = []\n",
    "    for item in lst:\n",
    "        if isinstance(item, (int, float)):\n",
    "            flat_list.append(item)\n",
    "        elif isinstance(item, (tuple, list)):\n",
    "            flat_list.extend(return_int_list(item))\n",
    "        elif isinstance(item, dict):\n",
    "            for key, value in item.items():\n",
    "                if isinstance(key, (int, float)):\n",
    "                    flat_list.append(key)\n",
    "                if isinstance(value, (int, float)):\n",
    "                    flat_list.append(value)\n",
    "                elif isinstance(value, (tuple, list, dict)):\n",
    "                    flat_list.extend(return_int_list(value))\n",
    "    return flat_list\n",
    "\n",
    "list_1=[1,2,3,4,[44,55,66, True], False, (34,56,78,89,34), {1,2,3,3,2,1}, {1:34, \"key2\": [55, 67, 78, 89], 4: (45, 22, 61, 34)}, [56, 'data science'], 'Machine Learning']              \n",
    "numbers = list(return_int_list(list_1))\n",
    "print(numbers)\n",
    "product=reduce(lambda x,y:x*y,numbers)\n",
    "print(\"Product of whole list is\", product)\n",
    "## As the output is zero , because the value of False is 0 , and if you multiplied 0 with anything that all thing is zero"
   ]
  },
  {
   "cell_type": "markdown",
   "id": "dfeda7eb",
   "metadata": {},
   "source": [
    "Q2. Write a python program for encrypting a message sent to you by your friend. The logic of encryption should be such that, for a the output should be z. For b, the output should be y. For c, the output should be x respectively. Also, the whitespace should be replaced with a dollar sign. Keep the punctuation marks unchanged.\n",
    "Input Sentence: I want to become a Data Scientist.\n",
    "Encrypt the above input sentence using the program you just created.\n",
    "Note: Convert the given input sentence into lowercase before encrypting. The final output should be lowercase."
   ]
  },
  {
   "cell_type": "code",
   "execution_count": 25,
   "id": "f6c1e5fc",
   "metadata": {},
   "outputs": [
    {
     "name": "stdout",
     "output_type": "stream",
     "text": [
      "Encrypted Sentence: i$wznt$to$ye%xdelome$z$dztz$s%xdelientist.\n"
     ]
    }
   ],
   "source": [
    "def encrypt_sentence(sentence):\n",
    "    sentence = sentence.lower()\n",
    "    encrypted_sentence = \"\"\n",
    "    for char in sentence:\n",
    "        if char == ' ':\n",
    "            encrypted_sentence += '$'\n",
    "        elif char== 'a':\n",
    "            encrypted_sentence += 'z'\n",
    "        elif char== 'b':\n",
    "            encrypted_sentence += 'y'\n",
    "        elif char== 'c':\n",
    "            encrypted_sentence += '%xdel'\n",
    "        else:\n",
    "            encrypted_sentence += char\n",
    "    return encrypted_sentence\n",
    "\n",
    "sentence = \"I want to become a Data Scientist.\"\n",
    "encrypted_sentence = encrypt_sentence(sentence)\n",
    "print(\"Encrypted Sentence:\", encrypted_sentence)  "
   ]
  },
  {
   "cell_type": "markdown",
   "id": "2f90a916",
   "metadata": {},
   "source": [
    "-------------------------------------------------------------------------------------------- __End__----------------------------------------------------------------------------------------------------------------"
   ]
  }
 ],
 "metadata": {
  "kernelspec": {
   "display_name": "Python 3 (ipykernel)",
   "language": "python",
   "name": "python3"
  },
  "language_info": {
   "codemirror_mode": {
    "name": "ipython",
    "version": 3
   },
   "file_extension": ".py",
   "mimetype": "text/x-python",
   "name": "python",
   "nbconvert_exporter": "python",
   "pygments_lexer": "ipython3",
   "version": "3.9.12"
  },
  "varInspector": {
   "cols": {
    "lenName": 16,
    "lenType": 16,
    "lenVar": 40
   },
   "kernels_config": {
    "python": {
     "delete_cmd_postfix": "",
     "delete_cmd_prefix": "del ",
     "library": "var_list.py",
     "varRefreshCmd": "print(var_dic_list())"
    },
    "r": {
     "delete_cmd_postfix": ") ",
     "delete_cmd_prefix": "rm(",
     "library": "var_list.r",
     "varRefreshCmd": "cat(var_dic_list()) "
    }
   },
   "types_to_exclude": [
    "module",
    "function",
    "builtin_function_or_method",
    "instance",
    "_Feature"
   ],
   "window_display": false
  }
 },
 "nbformat": 4,
 "nbformat_minor": 5
}
